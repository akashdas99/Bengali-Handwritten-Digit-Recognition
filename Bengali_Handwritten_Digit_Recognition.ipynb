{
  "nbformat": 4,
  "nbformat_minor": 0,
  "metadata": {
    "colab": {
      "name": "Bengali Handwritten Digit Recognition.ipynb",
      "provenance": [],
      "collapsed_sections": [],
      "authorship_tag": "ABX9TyPVif3A+PCfMCQBdgS4jmhB",
      "include_colab_link": true
    },
    "kernelspec": {
      "name": "python3",
      "display_name": "Python 3"
    },
    "language_info": {
      "name": "python"
    },
    "accelerator": "GPU"
  },
  "cells": [
    {
      "cell_type": "markdown",
      "metadata": {
        "id": "view-in-github",
        "colab_type": "text"
      },
      "source": [
        "<a href=\"https://colab.research.google.com/github/akashdas99/Bengali-Handwritten-Digit-Recognition/blob/main/Bengali_Handwritten_Digit_Recognition.ipynb\" target=\"_parent\"><img src=\"https://colab.research.google.com/assets/colab-badge.svg\" alt=\"Open In Colab\"/></a>"
      ]
    },
    {
      "cell_type": "markdown",
      "metadata": {
        "id": "UYJ5WQjpV8wv"
      },
      "source": [
        "Importing libraries"
      ]
    },
    {
      "cell_type": "code",
      "metadata": {
        "id": "TrOYl2GITQFv"
      },
      "source": [
        "import numpy as np\n",
        "import tensorflow as tf\n",
        "import matplotlib.pyplot as plt\n",
        "from keras.utils import np_utils\n"
      ],
      "execution_count": null,
      "outputs": []
    },
    {
      "cell_type": "markdown",
      "metadata": {
        "id": "KRfMyt1xKURO"
      },
      "source": [
        "Data Loading"
      ]
    },
    {
      "cell_type": "code",
      "metadata": {
        "id": "7ab8zfe6XNdb",
        "colab": {
          "base_uri": "https://localhost:8080/"
        },
        "outputId": "20f13547-51fb-4927-d7e5-e4bf642f8754"
      },
      "source": [
        "from google.colab import files\n",
        "\n",
        "train=np.load('training-images.npz')\n",
        "test=np.load('testing-images.npz')\n",
        "print(train)"
      ],
      "execution_count": null,
      "outputs": [
        {
          "output_type": "stream",
          "text": [
            "<numpy.lib.npyio.NpzFile object at 0x7fbb01e55650>\n"
          ],
          "name": "stdout"
        }
      ]
    },
    {
      "cell_type": "markdown",
      "metadata": {
        "id": "dlg6kIqeJrxa"
      },
      "source": [
        "Data Preprocessing"
      ]
    },
    {
      "cell_type": "code",
      "metadata": {
        "colab": {
          "base_uri": "https://localhost:8080/"
        },
        "id": "cYYNVB9vJnfE",
        "outputId": "8740ee55-672c-41c4-f815-f9e9dfe8aa51"
      },
      "source": [
        "X_train=train['images'][:,:,:,0]\n",
        "X_test=test['images'][:,:,:,0]\n",
        "y_train=train['labels']\n",
        "y_test=test['labels']\n",
        "\n",
        "X_train = X_train.reshape(X_train.shape[0], 32, 32, 1)\n",
        "X_test = X_test.reshape(X_test.shape[0], 32, 32, 1)\n",
        "\n",
        "X_train = X_train.astype('float32')\n",
        "X_test = X_test.astype('float32')\n",
        "\n",
        "X_train/=255\n",
        "X_test/=255\n",
        "\n",
        "print(X_train.shape)\n",
        "print(X_test.shape)"
      ],
      "execution_count": null,
      "outputs": [
        {
          "output_type": "stream",
          "text": [
            "(5000, 32, 32, 1)\n",
            "(1000, 32, 32, 1)\n"
          ],
          "name": "stdout"
        }
      ]
    },
    {
      "cell_type": "code",
      "metadata": {
        "colab": {
          "base_uri": "https://localhost:8080/",
          "height": 283
        },
        "id": "Sj_QywFDnmCv",
        "outputId": "b6af9837-34f2-44a7-9be2-2805e5043786"
      },
      "source": [
        "plt.imshow(X_train[0][:,:,0],cmap=\"gray\")\n",
        "print(y_train[0])"
      ],
      "execution_count": null,
      "outputs": [
        {
          "output_type": "stream",
          "text": [
            "9\n"
          ],
          "name": "stdout"
        },
        {
          "output_type": "display_data",
          "data": {
            "image/png": "[encoded data removed]",
            "text/plain": [
              "<Figure size 432x288 with 1 Axes>"
            ]
          },
          "metadata": {
            "tags": [],
            "needs_background": "light"
          }
        }
      ]
    },
    {
      "cell_type": "code",
      "metadata": {
        "id": "xcYl7MYynYsF"
      },
      "source": [
        "from sklearn.utils import shuffle\n",
        "X_train, y_train = shuffle(X_train, y_train)"
      ],
      "execution_count": null,
      "outputs": []
    },
    {
      "cell_type": "code",
      "metadata": {
        "colab": {
          "base_uri": "https://localhost:8080/",
          "height": 283
        },
        "id": "9Z32Z3htn7B6",
        "outputId": "8ddf9945-342d-4af9-e199-3ae79b6d585b"
      },
      "source": [
        "plt.imshow(X_train[125][:,:,0])\n",
        "print(y_train[125])"
      ],
      "execution_count": null,
      "outputs": [
        {
          "output_type": "stream",
          "text": [
            "8\n"
          ],
          "name": "stdout"
        },
        {
          "output_type": "display_data",
          "data": {
            "image/png": "[encoded data removed]",
            "text/plain": [
              "<Figure size 432x288 with 1 Axes>"
            ]
          },
          "metadata": {
            "tags": [],
            "needs_background": "light"
          }
        }
      ]
    },
    {
      "cell_type": "code",
      "metadata": {
        "id": "E74ca-H1iwzH",
        "colab": {
          "base_uri": "https://localhost:8080/"
        },
        "outputId": "d686ad56-fbda-48c2-f4d3-d1e31b7b468c"
      },
      "source": [
        "from keras.models import Sequential\n",
        "from keras.layers import Dense, Dropout, Activation, Flatten\n",
        "from keras.optimizers import Adam\n",
        "from keras.layers.normalization import BatchNormalization\n",
        "from keras.layers import Conv2D, MaxPooling2D\n",
        "\n",
        "model = Sequential()\n",
        "\n",
        "model.add(Conv2D(32, (3, 3), input_shape=(32,32,1)))\n",
        "model.add(Activation('relu'))\n",
        "model.add(Conv2D(32, (3, 3)))\n",
        "model.add(Activation('relu'))\n",
        "BatchNormalization()\n",
        "model.add(MaxPooling2D(pool_size=(2,2)))\n",
        "\n",
        "model.add(Conv2D(64, (6, 6)))\n",
        "model.add(Activation('relu'))\n",
        "model.add(Conv2D(64, (6, 6)))\n",
        "model.add(Activation('relu'))\n",
        "BatchNormalization()\n",
        "model.add(MaxPooling2D(pool_size=(2,2)))\n",
        "\n",
        "model.add(Flatten())\n",
        "BatchNormalization()\n",
        "model.add(Dense(128))\n",
        "model.add(Activation('relu'))\n",
        "model.add(Dropout(0.2))\n",
        "model.add(Dense(10))\n",
        "model.add(Activation('softmax'))\n",
        "\n",
        "model.summary()"
      ],
      "execution_count": null,
      "outputs": [
        {
          "output_type": "stream",
          "text": [
            "Model: \"sequential\"\n",
            "_________________________________________________________________\n",
            "Layer (type)                 Output Shape              Param #   \n",
            "=================================================================\n",
            "conv2d (Conv2D)              (None, 30, 30, 32)        320       \n",
            "_________________________________________________________________\n",
            "activation (Activation)      (None, 30, 30, 32)        0         \n",
            "_________________________________________________________________\n",
            "conv2d_1 (Conv2D)            (None, 28, 28, 32)        9248      \n",
            "_________________________________________________________________\n",
            "activation_1 (Activation)    (None, 28, 28, 32)        0         \n",
            "_________________________________________________________________\n",
            "max_pooling2d (MaxPooling2D) (None, 14, 14, 32)        0         \n",
            "_________________________________________________________________\n",
            "conv2d_2 (Conv2D)            (None, 9, 9, 64)          73792     \n",
            "_________________________________________________________________\n",
            "activation_2 (Activation)    (None, 9, 9, 64)          0         \n",
            "_________________________________________________________________\n",
            "conv2d_3 (Conv2D)            (None, 4, 4, 64)          147520    \n",
            "_________________________________________________________________\n",
            "activation_3 (Activation)    (None, 4, 4, 64)          0         \n",
            "_________________________________________________________________\n",
            "max_pooling2d_1 (MaxPooling2 (None, 2, 2, 64)          0         \n",
            "_________________________________________________________________\n",
            "flatten (Flatten)            (None, 256)               0         \n",
            "_________________________________________________________________\n",
            "dense (Dense)                (None, 128)               32896     \n",
            "_________________________________________________________________\n",
            "activation_4 (Activation)    (None, 128)               0         \n",
            "_________________________________________________________________\n",
            "dropout (Dropout)            (None, 128)               0         \n",
            "_________________________________________________________________\n",
            "dense_1 (Dense)              (None, 10)                1290      \n",
            "_________________________________________________________________\n",
            "activation_5 (Activation)    (None, 10)                0         \n",
            "=================================================================\n",
            "Total params: 265,066\n",
            "Trainable params: 265,066\n",
            "Non-trainable params: 0\n",
            "_________________________________________________________________\n"
          ],
          "name": "stdout"
        }
      ]
    },
    {
      "cell_type": "code",
      "metadata": {
        "id": "wFlYnurcsfF2"
      },
      "source": [
        "model.compile(loss='sparse_categorical_crossentropy', optimizer=Adam(), metrics=['SparseCategoricalAccuracy'])"
      ],
      "execution_count": null,
      "outputs": []
    },
    {
      "cell_type": "code",
      "metadata": {
        "colab": {
          "base_uri": "https://localhost:8080/"
        },
        "id": "o2nz4TO2stNo",
        "outputId": "9633475a-a062-4e8c-cc41-7ecea66afe70"
      },
      "source": [
        "history = model.fit(X_train,y_train,batch_size = 20, epochs=18,validation_data=(X_test,y_test))"
      ],
      "execution_count": null,
      "outputs": [
        {
          "output_type": "stream",
          "text": [
            "Epoch 1/18\n",
            "250/250 [==============================] - 20s 13ms/step - loss: 1.4043 - sparse_categorical_accuracy: 0.4879 - val_loss: 0.3278 - val_sparse_categorical_accuracy: 0.8830\n",
            "Epoch 2/18\n",
            "250/250 [==============================] - 2s 10ms/step - loss: 0.2920 - sparse_categorical_accuracy: 0.9084 - val_loss: 0.1786 - val_sparse_categorical_accuracy: 0.9420\n",
            "Epoch 3/18\n",
            "250/250 [==============================] - 2s 10ms/step - loss: 0.1611 - sparse_categorical_accuracy: 0.9474 - val_loss: 0.1336 - val_sparse_categorical_accuracy: 0.9620\n",
            "Epoch 4/18\n",
            "250/250 [==============================] - 3s 10ms/step - loss: 0.1007 - sparse_categorical_accuracy: 0.9688 - val_loss: 0.1295 - val_sparse_categorical_accuracy: 0.9630\n",
            "Epoch 5/18\n",
            "250/250 [==============================] - 2s 9ms/step - loss: 0.0748 - sparse_categorical_accuracy: 0.9786 - val_loss: 0.1068 - val_sparse_categorical_accuracy: 0.9680\n",
            "Epoch 6/18\n",
            "250/250 [==============================] - 2s 9ms/step - loss: 0.0636 - sparse_categorical_accuracy: 0.9804 - val_loss: 0.1123 - val_sparse_categorical_accuracy: 0.9680\n",
            "Epoch 7/18\n",
            "250/250 [==============================] - 2s 9ms/step - loss: 0.0591 - sparse_categorical_accuracy: 0.9811 - val_loss: 0.0952 - val_sparse_categorical_accuracy: 0.9660\n",
            "Epoch 8/18\n",
            "250/250 [==============================] - 2s 9ms/step - loss: 0.0336 - sparse_categorical_accuracy: 0.9873 - val_loss: 0.0827 - val_sparse_categorical_accuracy: 0.9800\n",
            "Epoch 9/18\n",
            "250/250 [==============================] - 2s 10ms/step - loss: 0.0324 - sparse_categorical_accuracy: 0.9887 - val_loss: 0.1527 - val_sparse_categorical_accuracy: 0.9600\n",
            "Epoch 10/18\n",
            "250/250 [==============================] - 2s 9ms/step - loss: 0.0453 - sparse_categorical_accuracy: 0.9865 - val_loss: 0.0896 - val_sparse_categorical_accuracy: 0.9690\n",
            "Epoch 11/18\n",
            "250/250 [==============================] - 2s 10ms/step - loss: 0.0164 - sparse_categorical_accuracy: 0.9941 - val_loss: 0.1753 - val_sparse_categorical_accuracy: 0.9530\n",
            "Epoch 12/18\n",
            "250/250 [==============================] - 2s 9ms/step - loss: 0.0352 - sparse_categorical_accuracy: 0.9901 - val_loss: 0.1026 - val_sparse_categorical_accuracy: 0.9730\n",
            "Epoch 13/18\n",
            "250/250 [==============================] - 2s 9ms/step - loss: 0.0087 - sparse_categorical_accuracy: 0.9979 - val_loss: 0.0716 - val_sparse_categorical_accuracy: 0.9810\n",
            "Epoch 14/18\n",
            "250/250 [==============================] - 2s 9ms/step - loss: 0.0032 - sparse_categorical_accuracy: 0.9993 - val_loss: 0.1213 - val_sparse_categorical_accuracy: 0.9760\n",
            "Epoch 15/18\n",
            "250/250 [==============================] - 2s 9ms/step - loss: 0.0262 - sparse_categorical_accuracy: 0.9906 - val_loss: 0.0833 - val_sparse_categorical_accuracy: 0.9760\n",
            "Epoch 16/18\n",
            "250/250 [==============================] - 2s 10ms/step - loss: 0.0280 - sparse_categorical_accuracy: 0.9886 - val_loss: 0.0786 - val_sparse_categorical_accuracy: 0.9790\n",
            "Epoch 17/18\n",
            "250/250 [==============================] - 2s 9ms/step - loss: 0.0115 - sparse_categorical_accuracy: 0.9961 - val_loss: 0.0989 - val_sparse_categorical_accuracy: 0.9750\n",
            "Epoch 18/18\n",
            "250/250 [==============================] - 2s 9ms/step - loss: 0.0175 - sparse_categorical_accuracy: 0.9946 - val_loss: 0.0543 - val_sparse_categorical_accuracy: 0.9820\n"
          ],
          "name": "stdout"
        }
      ]
    },
    {
      "cell_type": "code",
      "metadata": {
        "colab": {
          "base_uri": "https://localhost:8080/"
        },
        "id": "QshuxF-vrTeZ",
        "outputId": "6ab34759-d65c-4ef4-b36a-8182eeecb7dc"
      },
      "source": [
        "print(history.history.keys())\n",
        "model.save('my_model.h5')"
      ],
      "execution_count": null,
      "outputs": [
        {
          "output_type": "stream",
          "text": [
            "dict_keys(['loss', 'sparse_categorical_accuracy', 'val_loss', 'val_sparse_categorical_accuracy'])\n"
          ],
          "name": "stdout"
        }
      ]
    },
    {
      "cell_type": "code",
      "metadata": {
        "colab": {
          "base_uri": "https://localhost:8080/",
          "height": 572
        },
        "id": "6KlVaM9LriPg",
        "outputId": "3eeeb2bd-3121-4e18-9719-3ba7d006a6b4"
      },
      "source": [
        "plt.plot(history.history['sparse_categorical_accuracy'])\n",
        "plt.plot(history.history['val_sparse_categorical_accuracy'])\n",
        "plt.title('model accuracy')\n",
        "plt.ylabel('accuracy')\n",
        "plt.xlabel('epoch')\n",
        "plt.legend(['train', 'test'], loc='upper left')\n",
        "plt.show()\n",
        "\n",
        "plt.plot(history.history['loss'])\n",
        "plt.plot(history.history['val_loss'])\n",
        "plt.title('model loss')\n",
        "plt.ylabel('loss')\n",
        "plt.xlabel('epoch')\n",
        "plt.legend(['train', 'test'], loc='upper left')\n",
        "plt.show()"
      ],
      "execution_count": null,
      "outputs": [
        {
          "output_type": "display_data",
          "data": {
            "image/png": "[encoded data removed]",
            "text/plain": [
              "<Figure size 432x288 with 1 Axes>"
            ]
          },
          "metadata": {
            "tags": [],
            "needs_background": "light"
          }
        },
        {
          "output_type": "display_data",
          "data": {
            "image/png": "[encoded data removed]",
            "text/plain": [
              "<Figure size 432x288 with 1 Axes>"
            ]
          },
          "metadata": {
            "tags": [],
            "needs_background": "light"
          }
        }
      ]
    },
    {
      "cell_type": "code",
      "metadata": {
        "colab": {
          "base_uri": "https://localhost:8080/"
        },
        "id": "eWBv0xbsvrpJ",
        "outputId": "7562ddec-effe-45a4-b038-6ba1473892a2"
      },
      "source": [
        "loss, accuracy = model.evaluate(X_test, y_test)\n",
        "print(\"Test: accuracy = %f  ;  loss = %f\" % (accuracy*100, loss*100))"
      ],
      "execution_count": null,
      "outputs": [
        {
          "output_type": "stream",
          "text": [
            "32/32 [==============================] - 0s 5ms/step - loss: 0.0543 - sparse_categorical_accuracy: 0.9820\n",
            "Test: accuracy = 98.199999  ;  loss = 5.430898\n"
          ],
          "name": "stdout"
        }
      ]
    },
    {
      "cell_type": "code",
      "metadata": {
        "id": "5d_1VpH3s6kx",
        "colab": {
          "base_uri": "https://localhost:8080/",
          "height": 298
        },
        "outputId": "ecdc3545-846d-4890-aab9-ee9612aee0a7"
      },
      "source": [
        "p=model.predict(X_test[526].reshape(1,32,32,1))\n",
        "plt.imshow(X_test[526][:,:,0],cmap=\"gray\")\n",
        "print('Original Value :',y_test[526])\n",
        "print('Predicted Value :',np.argmax(p))"
      ],
      "execution_count": null,
      "outputs": [
        {
          "output_type": "stream",
          "text": [
            "Original Value : 8\n",
            "Predicted Value : 8\n"
          ],
          "name": "stdout"
        },
        {
          "output_type": "display_data",
          "data": {
            "image/png": "[encoded data removed]",
            "text/plain": [
              "<Figure size 432x288 with 1 Axes>"
            ]
          },
          "metadata": {
            "tags": [],
            "needs_background": "light"
          }
        }
      ]
    },
    {
      "cell_type": "code",
      "metadata": {
        "id": "ebN9Xvx2vl3M"
      },
      "source": [
        ""
      ],
      "execution_count": null,
      "outputs": []
    },
    {
      "cell_type": "code",
      "metadata": {
        "id": "9Eb6ja-yyZp_"
      },
      "source": [
        ""
      ],
      "execution_count": null,
      "outputs": []
    }
  ]
}